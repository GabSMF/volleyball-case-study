{
 "cells": [
  {
   "cell_type": "markdown",
   "metadata": {},
   "source": [
    "## **Análise e Pré-Processamento dos dados Encontrados**"
   ]
  },
  {
   "cell_type": "code",
   "execution_count": 1,
   "metadata": {},
   "outputs": [],
   "source": [
    "import pandas as pd\n",
    "import numpy as np\n",
    "from datetime import datetime"
   ]
  },
  {
   "cell_type": "markdown",
   "metadata": {},
   "source": [
    "### **Dando uma olhada nos dados que temos**\n",
    "Como parte de nossos dados não vem de um Kaggle mas sim de um repositório de webscraping, não tem muita documentação sobre ele, só um artigo não muito claro\n",
    "\n",
    "OBS: Para não ter chance de perder os dados e também para ter uma visualização melhor, coloquei parte deles num Banco de Dados no postgresSQL"
   ]
  },
  {
   "cell_type": "code",
   "execution_count": null,
   "metadata": {},
   "outputs": [],
   "source": [
    "df_womens_indv = pd.read_csv('C:/Users/gabri/OneDrive/Documents/Faculdade/2024.2/Projeto de Ciência de Dados/volleyball-case-study/data/vnl-2021-2023/womens/df_womens_indv_21_23.csv')\n",
    "df_womens_indv.head(5)"
   ]
  },
  {
   "cell_type": "code",
   "execution_count": null,
   "metadata": {},
   "outputs": [],
   "source": [
    "df_womens_rosters = pd.read_csv('C:/Users/gabri/OneDrive/Documents/Faculdade/2024.2/Projeto de Ciência de Dados/volleyball-case-study/data/vnl-2021-2023/womens/df_womens_rosters_21_23.csv')\n",
    "df_womens_rosters.head(5)"
   ]
  },
  {
   "cell_type": "code",
   "execution_count": null,
   "metadata": {},
   "outputs": [],
   "source": [
    "ncaa1 = pd.read_csv(\"C:/Users/gabri/OneDrive/Documents/Faculdade/2024.2/Projeto de Ciência de Dados/volleyball-case-study/data/fivb-ncaa-2019/ncaa/combined/accumulated/0.2_ewm_combined.csv\")\n",
    "ncaa1.head(5)"
   ]
  },
  {
   "cell_type": "code",
   "execution_count": null,
   "metadata": {},
   "outputs": [],
   "source": [
    "ncaa2 = pd.read_csv(\"C:/Users/gabri/OneDrive/Documents/Faculdade/2024.2/Projeto de Ciência de Dados/volleyball-case-study/data/fivb-ncaa-2019/ncaa/combined/accumulated/10_sma_combined.csv\")\n",
    "ncaa2.head(5)"
   ]
  },
  {
   "cell_type": "code",
   "execution_count": null,
   "metadata": {},
   "outputs": [],
   "source": [
    "ncaa3= pd.read_csv(\"C:/Users/gabri/OneDrive/Documents/Faculdade/2024.2/Projeto de Ciência de Dados/volleyball-case-study/data/fivb-ncaa-2019/ncaa/combined/accumulated/cma_combined.csv\")\n",
    "ncaa3.head()"
   ]
  },
  {
   "cell_type": "code",
   "execution_count": null,
   "metadata": {},
   "outputs": [],
   "source": [
    "ncaa4 = pd.read_csv(\"C:/Users/gabri/OneDrive/Documents/Faculdade/2024.2/Projeto de Ciência de Dados/volleyball-case-study/data/fivb-ncaa-2019/ncaa/combined/accumulated/team_v_team.csv\")\n",
    "ncaa4.head()"
   ]
  },
  {
   "cell_type": "markdown",
   "metadata": {},
   "source": [
    "### **Dataset escolhido para tratar por enquanto: ``team_v_team.csv``**\n",
    "\n",
    "* Consiste basicamente de partidas de 2016 até 2019 entre times que são colocados nas posições de time A e time B, talvez haja repretição de dados nas colunas A e B\n",
    "\n",
    "* Essa feature 'results' ta meio simplificada, em um outro csv tem essa 'results' com o valor de quantos sets ganhos \n",
    "\n",
    "**Explicação das colunas:**\n",
    "\n",
    "Fonte das Explicações: https://wiaawi.org/Portals/0/PDF/Sports/Volleyball/vbstatspresentation.pdf#:~:text=What%20is%20hitting%20percentage?%20*%20Answer:%20(kills,Note%20that%20if%20a%20player%20has%20more\n",
    "\n",
    "* **S**: quantos Sets tiveram no total\n",
    "\n",
    "* **Team # Kills**: Quantos ataques não defendidos pelo time oposto, que diretamente resultam em ponto\n",
    "\n",
    "* **Team # Errors**: Ataque que diretamente resulta em ponto para o time oposto, bola na rede por exemplo\n",
    "\n",
    "* **Team # Total Attacks**: Total de ataques dos jogadores (kills-errors)/total\n",
    "\n",
    "* **Team # Hit Pct**: (kills-errors)/total_attacks\n",
    "\n",
    "* **Team # Assists**: Quando um jogador passe, prepara ou \"\"mancheteia\" a bola para um parceiro de equipe que consegue uma Kill a partir disso\n",
    "\n",
    "* **Team # Aces**: Um \"Service Ace\" é dado quando -> um saque que atinge a quadra intocada, que é tocada mas não continua no jogo, em que é dado violação ao time recebedor ou no caso do time recebedor estar fora de rotação\n",
    "\n",
    "* **Team # SErr**: Um \"Service Error\" é dado quando -> um saque que não passa da rede, passa dos limites da quadra, pé do sacador fora de posição ou quando o time que está sacando está fora de rotação\n",
    "\n",
    "* **Team # Digs**: Famosa manchete\n",
    "\n",
    "* **Team # RErr**: Uma \"Reception Error\" é dada quando o time oposto marca uma pontuação, ela é atribuida a um jogador do time\n",
    "\n",
    "* **Team # Block Solos**: bloqueio de um único jogador que diretamente leva a um ponto\n",
    "\n",
    "* **Team # Block Assists**: quando a tentativa de bloqueio de mais de um jogador leva a um ponto\n",
    "\n",
    "* **Team # BErr**: Quando a tentativa de bloqueio de uma bola diretamente resulta na parade de uma jogada e na pontuação do time oposto\n",
    "\n",
    "* **Team # PTS**: Kills + Aces + Block Solos + 1/2 Block Assists\n"
   ]
  },
  {
   "cell_type": "markdown",
   "metadata": {},
   "source": [
    "### **Verificando se existem dados \"\"invertidos\"\" no dataframe**\n",
    "Existem registros duplicados da mesma partida apenas invertendo quem está como \"Team A\" e \"Team B\". Porém como esses dados foram tirados via webscraping e devem ter páginas diferentes para cada time como \"Team A\" existe uma inconsistência nos dados, o que pode trazer problemas no futuro **melhor retirá-los**."
   ]
  },
  {
   "cell_type": "code",
   "execution_count": 6,
   "metadata": {},
   "outputs": [],
   "source": [
    "caso_1=ncaa4[(ncaa4['TeamA']== 'USC Upstate') & (ncaa4['TeamB']=='Ga. Southern')]\n",
    "caso_2 = ncaa4[(ncaa4['TeamB']== 'USC Upstate') & (ncaa4['TeamA']=='Ga. Southern')]"
   ]
  },
  {
   "cell_type": "code",
   "execution_count": 25,
   "metadata": {},
   "outputs": [
    {
     "data": {
      "text/html": [
       "<div>\n",
       "<style scoped>\n",
       "    .dataframe tbody tr th:only-of-type {\n",
       "        vertical-align: middle;\n",
       "    }\n",
       "\n",
       "    .dataframe tbody tr th {\n",
       "        vertical-align: top;\n",
       "    }\n",
       "\n",
       "    .dataframe thead th {\n",
       "        text-align: right;\n",
       "    }\n",
       "</style>\n",
       "<table border=\"1\" class=\"dataframe\">\n",
       "  <thead>\n",
       "    <tr style=\"text-align: right;\">\n",
       "      <th></th>\n",
       "      <th>Unnamed: 0</th>\n",
       "      <th>Date</th>\n",
       "      <th>TeamA</th>\n",
       "      <th>TeamB</th>\n",
       "      <th>Result</th>\n",
       "      <th>S</th>\n",
       "      <th>Team A Kills</th>\n",
       "      <th>Team A Errors</th>\n",
       "      <th>Team A Total Attacks</th>\n",
       "      <th>Team A Hit Pct</th>\n",
       "      <th>...</th>\n",
       "      <th>Team B Hit Pct</th>\n",
       "      <th>Team B Assists</th>\n",
       "      <th>Team B Aces</th>\n",
       "      <th>Team B SErr</th>\n",
       "      <th>Team B Digs</th>\n",
       "      <th>Team B RErr</th>\n",
       "      <th>Team B Block Solos</th>\n",
       "      <th>Team B Block Assists</th>\n",
       "      <th>Team B BErr</th>\n",
       "      <th>Team B PTS</th>\n",
       "    </tr>\n",
       "  </thead>\n",
       "  <tbody>\n",
       "    <tr>\n",
       "      <th>2</th>\n",
       "      <td>2</td>\n",
       "      <td>9072019</td>\n",
       "      <td>USC Upstate</td>\n",
       "      <td>Ga. Southern</td>\n",
       "      <td>0</td>\n",
       "      <td>3.0</td>\n",
       "      <td>37</td>\n",
       "      <td>20</td>\n",
       "      <td>117</td>\n",
       "      <td>0.145</td>\n",
       "      <td>...</td>\n",
       "      <td>0.239</td>\n",
       "      <td>39</td>\n",
       "      <td>4</td>\n",
       "      <td>5</td>\n",
       "      <td>49</td>\n",
       "      <td>2</td>\n",
       "      <td>1</td>\n",
       "      <td>6</td>\n",
       "      <td>1</td>\n",
       "      <td>50.0</td>\n",
       "    </tr>\n",
       "    <tr>\n",
       "      <th>9544</th>\n",
       "      <td>9544</td>\n",
       "      <td>9142018</td>\n",
       "      <td>USC Upstate</td>\n",
       "      <td>Ga. Southern</td>\n",
       "      <td>0</td>\n",
       "      <td>4.0</td>\n",
       "      <td>46</td>\n",
       "      <td>34</td>\n",
       "      <td>170</td>\n",
       "      <td>0.071</td>\n",
       "      <td>...</td>\n",
       "      <td>0.192</td>\n",
       "      <td>49</td>\n",
       "      <td>2</td>\n",
       "      <td>7</td>\n",
       "      <td>80</td>\n",
       "      <td>1</td>\n",
       "      <td>2</td>\n",
       "      <td>35</td>\n",
       "      <td>1</td>\n",
       "      <td>80.5</td>\n",
       "    </tr>\n",
       "  </tbody>\n",
       "</table>\n",
       "<p>2 rows × 32 columns</p>\n",
       "</div>"
      ],
      "text/plain": [
       "      Unnamed: 0     Date        TeamA         TeamB  Result    S  \\\n",
       "2              2  9072019  USC Upstate  Ga. Southern       0  3.0   \n",
       "9544        9544  9142018  USC Upstate  Ga. Southern       0  4.0   \n",
       "\n",
       "      Team A Kills  Team A Errors  Team A Total Attacks  Team A Hit Pct  ...  \\\n",
       "2               37             20                   117           0.145  ...   \n",
       "9544            46             34                   170           0.071  ...   \n",
       "\n",
       "      Team B Hit Pct  Team B Assists  Team B Aces  Team B SErr  Team B Digs  \\\n",
       "2              0.239              39            4            5           49   \n",
       "9544           0.192              49            2            7           80   \n",
       "\n",
       "      Team B RErr  Team B Block Solos  Team B Block Assists  Team B BErr  \\\n",
       "2               2                   1                     6            1   \n",
       "9544            1                   2                    35            1   \n",
       "\n",
       "      Team B PTS  \n",
       "2           50.0  \n",
       "9544        80.5  \n",
       "\n",
       "[2 rows x 32 columns]"
      ]
     },
     "execution_count": 25,
     "metadata": {},
     "output_type": "execute_result"
    }
   ],
   "source": [
    "caso_1"
   ]
  },
  {
   "cell_type": "code",
   "execution_count": 23,
   "metadata": {},
   "outputs": [
    {
     "data": {
      "text/html": [
       "<div>\n",
       "<style scoped>\n",
       "    .dataframe tbody tr th:only-of-type {\n",
       "        vertical-align: middle;\n",
       "    }\n",
       "\n",
       "    .dataframe tbody tr th {\n",
       "        vertical-align: top;\n",
       "    }\n",
       "\n",
       "    .dataframe thead th {\n",
       "        text-align: right;\n",
       "    }\n",
       "</style>\n",
       "<table border=\"1\" class=\"dataframe\">\n",
       "  <thead>\n",
       "    <tr style=\"text-align: right;\">\n",
       "      <th></th>\n",
       "      <th>Unnamed: 0</th>\n",
       "      <th>Date</th>\n",
       "      <th>TeamA</th>\n",
       "      <th>TeamB</th>\n",
       "      <th>Result</th>\n",
       "      <th>S</th>\n",
       "      <th>Team A Kills</th>\n",
       "      <th>Team A Errors</th>\n",
       "      <th>Team A Total Attacks</th>\n",
       "      <th>Team A Hit Pct</th>\n",
       "      <th>...</th>\n",
       "      <th>Team B Hit Pct</th>\n",
       "      <th>Team B Assists</th>\n",
       "      <th>Team B Aces</th>\n",
       "      <th>Team B SErr</th>\n",
       "      <th>Team B Digs</th>\n",
       "      <th>Team B RErr</th>\n",
       "      <th>Team B Block Solos</th>\n",
       "      <th>Team B Block Assists</th>\n",
       "      <th>Team B BErr</th>\n",
       "      <th>Team B PTS</th>\n",
       "    </tr>\n",
       "  </thead>\n",
       "  <tbody>\n",
       "    <tr>\n",
       "      <th>7144</th>\n",
       "      <td>7144</td>\n",
       "      <td>9072019</td>\n",
       "      <td>Ga. Southern</td>\n",
       "      <td>USC Upstate</td>\n",
       "      <td>1</td>\n",
       "      <td>3.0</td>\n",
       "      <td>42</td>\n",
       "      <td>15</td>\n",
       "      <td>113</td>\n",
       "      <td>0.239</td>\n",
       "      <td>...</td>\n",
       "      <td>0.145</td>\n",
       "      <td>35</td>\n",
       "      <td>2</td>\n",
       "      <td>4</td>\n",
       "      <td>48</td>\n",
       "      <td>4</td>\n",
       "      <td>4</td>\n",
       "      <td>2</td>\n",
       "      <td>2</td>\n",
       "      <td>44.0</td>\n",
       "    </tr>\n",
       "    <tr>\n",
       "      <th>16482</th>\n",
       "      <td>16482</td>\n",
       "      <td>9142018</td>\n",
       "      <td>Ga. Southern</td>\n",
       "      <td>USC Upstate</td>\n",
       "      <td>1</td>\n",
       "      <td>4.0</td>\n",
       "      <td>59</td>\n",
       "      <td>27</td>\n",
       "      <td>167</td>\n",
       "      <td>0.192</td>\n",
       "      <td>...</td>\n",
       "      <td>0.071</td>\n",
       "      <td>43</td>\n",
       "      <td>1</td>\n",
       "      <td>7</td>\n",
       "      <td>65</td>\n",
       "      <td>2</td>\n",
       "      <td>1</td>\n",
       "      <td>22</td>\n",
       "      <td>2</td>\n",
       "      <td>59.0</td>\n",
       "    </tr>\n",
       "  </tbody>\n",
       "</table>\n",
       "<p>2 rows × 32 columns</p>\n",
       "</div>"
      ],
      "text/plain": [
       "       Unnamed: 0     Date         TeamA        TeamB  Result    S  \\\n",
       "7144         7144  9072019  Ga. Southern  USC Upstate       1  3.0   \n",
       "16482       16482  9142018  Ga. Southern  USC Upstate       1  4.0   \n",
       "\n",
       "       Team A Kills  Team A Errors  Team A Total Attacks  Team A Hit Pct  ...  \\\n",
       "7144             42             15                   113           0.239  ...   \n",
       "16482            59             27                   167           0.192  ...   \n",
       "\n",
       "       Team B Hit Pct  Team B Assists  Team B Aces  Team B SErr  Team B Digs  \\\n",
       "7144            0.145              35            2            4           48   \n",
       "16482           0.071              43            1            7           65   \n",
       "\n",
       "       Team B RErr  Team B Block Solos  Team B Block Assists  Team B BErr  \\\n",
       "7144             4                   4                     2            2   \n",
       "16482            2                   1                    22            2   \n",
       "\n",
       "       Team B PTS  \n",
       "7144         44.0  \n",
       "16482        59.0  \n",
       "\n",
       "[2 rows x 32 columns]"
      ]
     },
     "execution_count": 23,
     "metadata": {},
     "output_type": "execute_result"
    }
   ],
   "source": [
    "caso_2"
   ]
  },
  {
   "cell_type": "code",
   "execution_count": null,
   "metadata": {},
   "outputs": [],
   "source": [
    "caso_2['Team A Kills']"
   ]
  },
  {
   "cell_type": "code",
   "execution_count": null,
   "metadata": {},
   "outputs": [],
   "source": [
    "caso_1['Team B Kills']"
   ]
  }
 ],
 "metadata": {
  "kernelspec": {
   "display_name": ".venv",
   "language": "python",
   "name": "python3"
  },
  "language_info": {
   "codemirror_mode": {
    "name": "ipython",
    "version": 3
   },
   "file_extension": ".py",
   "mimetype": "text/x-python",
   "name": "python",
   "nbconvert_exporter": "python",
   "pygments_lexer": "ipython3",
   "version": "3.11.9"
  }
 },
 "nbformat": 4,
 "nbformat_minor": 2
}
