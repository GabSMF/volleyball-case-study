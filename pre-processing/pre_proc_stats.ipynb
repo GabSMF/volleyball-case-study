{
 "cells": [
  {
   "cell_type": "code",
   "execution_count": null,
   "metadata": {},
   "outputs": [],
   "source": [
    "import pandas as pd\n",
    "import seaborn as sns\n",
    "import matplotlib.pyplot as plt\n",
    "\n",
    "df = pd.read_csv(\"team_v_team.csv\")\n",
    "df_stats = pd.read_csv(\"team_statistics_summary.csv\")\n",
    "\n",
    "df_stats.rename(columns={\"Team\":\"TeamA\"}, inplace=True)\n",
    "\n",
    "df_stats.isna().sum()\n",
    "columns_to_drop = ['MS','Attend','MP.1']\n",
    "df_stats.drop(columns = columns_to_drop, inplace=True)\n",
    "\n",
    "df = pd.merge(df, df_stats, on='TeamA', how='left')\n",
    "df.head()\n",
    "\n",
    "# Define o caminho onde o CSV será salvo\n",
    "output_csv_path = r'/teams_summary.csv'\n",
    "\n",
    "# Salva o DataFrame em um arquivo CSV\n",
    "df.to_csv(output_csv_path, index=False)"
   ]
  }
 ],
 "metadata": {
  "language_info": {
   "name": "python"
  }
 },
 "nbformat": 4,
 "nbformat_minor": 2
}
